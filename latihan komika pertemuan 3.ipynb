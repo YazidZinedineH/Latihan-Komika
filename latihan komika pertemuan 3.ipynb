{
 "cells": [
  {
   "cell_type": "code",
   "execution_count": 1,
   "id": "ef7b674f",
   "metadata": {},
   "outputs": [
    {
     "data": {
      "text/plain": [
       "2"
      ]
     },
     "execution_count": 1,
     "metadata": {},
     "output_type": "execute_result"
    }
   ],
   "source": [
    "1+1"
   ]
  },
  {
   "cell_type": "code",
   "execution_count": 2,
   "id": "bc821571",
   "metadata": {},
   "outputs": [
    {
     "name": "stdout",
     "output_type": "stream",
     "text": [
      "19 adalah bilangan ganjil\n"
     ]
    }
   ],
   "source": [
    "nilai = 19\n",
    "if (nilai==19):\n",
    "    print(\"19 adalah bilangan ganjil\")\n",
    "    \n",
    "else:\n",
    "    print(\"Lainnya\")"
   ]
  },
  {
   "cell_type": "code",
   "execution_count": 3,
   "id": "19f4bb34",
   "metadata": {},
   "outputs": [],
   "source": [
    "nilai = 18"
   ]
  },
  {
   "cell_type": "code",
   "execution_count": 4,
   "id": "024261b2",
   "metadata": {},
   "outputs": [
    {
     "data": {
      "text/plain": [
       "18"
      ]
     },
     "execution_count": 4,
     "metadata": {},
     "output_type": "execute_result"
    }
   ],
   "source": [
    "nilai"
   ]
  },
  {
   "cell_type": "code",
   "execution_count": 5,
   "id": "335a94dd",
   "metadata": {},
   "outputs": [
    {
     "name": "stdout",
     "output_type": "stream",
     "text": [
      "Lainnya\n"
     ]
    }
   ],
   "source": [
    "nilai = 18\n",
    "if (nilai==19):\n",
    "    print(\"19 adalah bilangan ganjil\")\n",
    "    \n",
    "else:\n",
    "    print(\"Lainnya\")"
   ]
  },
  {
   "cell_type": "code",
   "execution_count": 6,
   "id": "66a1f8e8",
   "metadata": {},
   "outputs": [
    {
     "name": "stdout",
     "output_type": "stream",
     "text": [
      "Itu adalah bangun datar persegi\n"
     ]
    }
   ],
   "source": [
    "sisi=4\n",
    "if(sisi==3):\n",
    "    print(\"Itu adalah bangun datar segitiga\")\n",
    "elif(sisi==4):\n",
    "    print(\"Itu adalah bangun datar persegi\")\n",
    "elif(sisi==5):\n",
    "    print(\"Itu adalah bangun datar segilima\")\n",
    "elif(sisi==6):\n",
    "    print(\"Itu adalah bangun datar segienam\")\n",
    "elif(sisi==8):\n",
    "    print(\"Itu adalah bangun datar segidelapan\") \n",
    "elif(sisi==10):\n",
    "    print(\"Itu adalah bangun datar segisepuluh\")\n",
    "else:\n",
    "    print(\"Maaf, ilmu saya belum sampai situ\")"
   ]
  },
  {
   "cell_type": "code",
   "execution_count": 7,
   "id": "7b951c99",
   "metadata": {},
   "outputs": [
    {
     "name": "stdout",
     "output_type": "stream",
     "text": [
      "Maaf, ilmu saya belum sampai situ\n"
     ]
    }
   ],
   "source": [
    "sisi=11\n",
    "if(sisi==3):\n",
    "    print(\"Itu adalah bangun datar segitiga\")\n",
    "elif(sisi==4):\n",
    "    print(\"Itu adalah bangun datar persegi\")\n",
    "elif(sisi==5):\n",
    "    print(\"Itu adalah bangun datar segilima\")\n",
    "elif(sisi==6):\n",
    "    print(\"Itu adalah bangun datar segienam\")\n",
    "elif(sisi==8):\n",
    "    print(\"Itu adalah bangun datar segidelapan\") \n",
    "elif(sisi==10):\n",
    "    print(\"Itu adalah bangun datar segisepuluh\")\n",
    "else:\n",
    "    print(\"Maaf, ilmu saya belum sampai situ\")"
   ]
  },
  {
   "cell_type": "code",
   "execution_count": 8,
   "id": "f4150aea",
   "metadata": {},
   "outputs": [
    {
     "name": "stdout",
     "output_type": "stream",
     "text": [
      "Maaf, ilmu saya belum sampai situ\n"
     ]
    }
   ],
   "source": [
    "sisi=1\n",
    "if(sisi==3):\n",
    "    print(\"Itu adalah bangun datar segitiga\")\n",
    "elif(sisi==4):\n",
    "    print(\"Itu adalah bangun datar persegi\")\n",
    "elif(sisi==5):\n",
    "    print(\"Itu adalah bangun datar segilima\")\n",
    "elif(sisi==6):\n",
    "    print(\"Itu adalah bangun datar segienam\")\n",
    "elif(sisi==8):\n",
    "    print(\"Itu adalah bangun datar segidelapan\") \n",
    "elif(sisi==10):\n",
    "    print(\"Itu adalah bangun datar segisepuluh\")\n",
    "else:\n",
    "    print(\"Maaf, ilmu saya belum sampai situ\")"
   ]
  },
  {
   "cell_type": "code",
   "execution_count": 9,
   "id": "20e94246",
   "metadata": {},
   "outputs": [
    {
     "name": "stdout",
     "output_type": "stream",
     "text": [
      "Gempa tersebut adalah gempa jenis Meteoric\n"
     ]
    }
   ],
   "source": [
    "Kekuatan_gempa=12.0\n",
    "if(Kekuatan_gempa < 2.0):\n",
    "    print(\"Gempa tersebut adalah gempa jenis Micro\")\n",
    "elif(Kekuatan_gempa <=3.0):\n",
    "    print(\"Gempa tersebut adalah gempa jenis Very minor\")\n",
    "elif(Kekuatan_gempa<=4.0):\n",
    "    print(\"Gempa tersebut adalah gempa jenis Minor\")\n",
    "elif(Kekuatan_gempa<=5.0):\n",
    "    print(\"Gempa tersebut adalah gempa jenis Light\")\n",
    "elif(Kekuatan_gempa <=6.0):\n",
    "    print(\"Gempa tersebut adalah gempa jenis Moderate\")\n",
    "elif(Kekuatan_gempa<=7.0):\n",
    "    print(\"Gempa tersebut adalah gempa jenis Strong\")\n",
    "elif(Kekuatan_gempa<=8.0):\n",
    "    print(\"Gempa tersebut adalah gempa jenis Major\")\n",
    "elif(Kekuatan_gempa<=10.0):\n",
    "    print(\"Gempa tersebut adalah gempa jenis Great\")\n",
    "else:\n",
    "    print(\"Gempa tersebut adalah gempa jenis Meteoric\")"
   ]
  },
  {
   "cell_type": "code",
   "execution_count": 10,
   "id": "18dc6ba0",
   "metadata": {},
   "outputs": [
    {
     "name": "stdout",
     "output_type": "stream",
     "text": [
      "Gempa tersebut adalah gempa jenis Micro\n"
     ]
    }
   ],
   "source": [
    "Kekuatan_gempa=0\n",
    "if(Kekuatan_gempa < 2.0):\n",
    "    print(\"Gempa tersebut adalah gempa jenis Micro\")\n",
    "elif(Kekuatan_gempa <=3.0):\n",
    "    print(\"Gempa tersebut adalah gempa jenis Very minor\")\n",
    "elif(Kekuatan_gempa<=4.0):\n",
    "    print(\"Gempa tersebut adalah gempa jenis Minor\")\n",
    "elif(Kekuatan_gempa<=5.0):\n",
    "    print(\"Gempa tersebut adalah gempa jenis Light\")\n",
    "elif(Kekuatan_gempa <=6.0):\n",
    "    print(\"Gempa tersebut adalah gempa jenis Moderate\")\n",
    "elif(Kekuatan_gempa<=7.0):\n",
    "    print(\"Gempa tersebut adalah gempa jenis Strong\")\n",
    "elif(Kekuatan_gempa<=8.0):\n",
    "    print(\"Gempa tersebut adalah gempa jenis Major\")\n",
    "elif(Kekuatan_gempa<=10.0):\n",
    "    print(\"Gempa tersebut adalah gempa jenis Great\")\n",
    "else:\n",
    "    print(\"Gempa tersebut adalah gempa jenis Meteoric\")"
   ]
  },
  {
   "cell_type": "code",
   "execution_count": 11,
   "id": "6aa4146b",
   "metadata": {},
   "outputs": [
    {
     "name": "stdout",
     "output_type": "stream",
     "text": [
      "Gempa tersebut adalah gempa jenis Micro\n"
     ]
    }
   ],
   "source": [
    "Kekuatan_gempa=-10\n",
    "if(Kekuatan_gempa < 2.0):\n",
    "    print(\"Gempa tersebut adalah gempa jenis Micro\")\n",
    "elif(Kekuatan_gempa <=3.0):\n",
    "    print(\"Gempa tersebut adalah gempa jenis Very minor\")\n",
    "elif(Kekuatan_gempa<=4.0):\n",
    "    print(\"Gempa tersebut adalah gempa jenis Minor\")\n",
    "elif(Kekuatan_gempa<=5.0):\n",
    "    print(\"Gempa tersebut adalah gempa jenis Light\")\n",
    "elif(Kekuatan_gempa <=6.0):\n",
    "    print(\"Gempa tersebut adalah gempa jenis Moderate\")\n",
    "elif(Kekuatan_gempa<=7.0):\n",
    "    print(\"Gempa tersebut adalah gempa jenis Strong\")\n",
    "elif(Kekuatan_gempa<=8.0):\n",
    "    print(\"Gempa tersebut adalah gempa jenis Major\")\n",
    "elif(Kekuatan_gempa<=10.0):\n",
    "    print(\"Gempa tersebut adalah gempa jenis Great\")\n",
    "else:\n",
    "    print(\"Gempa tersebut adalah gempa jenis Meteoric\")"
   ]
  },
  {
   "cell_type": "code",
   "execution_count": 12,
   "id": "6958d291",
   "metadata": {},
   "outputs": [
    {
     "name": "stdout",
     "output_type": "stream",
     "text": [
      "Spektrum yang terlihat adalah Green\n"
     ]
    }
   ],
   "source": [
    "Panjang_gelombang_cahaya=550\n",
    "if(Panjang_gelombang_cahaya<450):\n",
    "    print(\"Spektrum yang terlihat adalah Violet\")\n",
    "elif(Panjang_gelombang_cahaya<495):\n",
    "    print(\"Spektrum yang terlihat adalah Blue\")\n",
    "elif(Panjang_gelombang_cahaya < 570):\n",
    "    print(\"Spektrum yang terlihat adalah Green\") \n",
    "elif(Panjang_gelombang_cahaya < 590):\n",
    "    print(\"Spektrum yang terlihat adalah Yellow\")\n",
    "elif(Panjang_gelombang_cahaya < 620):\n",
    "    print(\"Spektrum yang terlihat adalah Orange\")\n",
    "elif(Panjang_gelombang_cahaya <=750):\n",
    "    print(\"Spektrum yang terlihat adalah Red\")\n",
    "else:\n",
    "    print(\"Input kamu di luar spektrum yang diketahui\")"
   ]
  },
  {
   "cell_type": "code",
   "execution_count": 13,
   "id": "278778e6",
   "metadata": {},
   "outputs": [
    {
     "name": "stdout",
     "output_type": "stream",
     "text": [
      "Input kamu di luar spektrum yang diketahui\n"
     ]
    }
   ],
   "source": [
    "Panjang_gelombang_cahaya=1000\n",
    "if(Panjang_gelombang_cahaya<450):\n",
    "    print(\"Spektrum yang terlihat adalah Violet\")\n",
    "elif(Panjang_gelombang_cahaya<495):\n",
    "    print(\"Spektrum yang terlihat adalah Blue\")\n",
    "elif(Panjang_gelombang_cahaya < 570):\n",
    "    print(\"Spektrum yang terlihat adalah Green\") \n",
    "elif(Panjang_gelombang_cahaya < 590):\n",
    "    print(\"Spektrum yang terlihat adalah Yellow\")\n",
    "elif(Panjang_gelombang_cahaya < 620):\n",
    "    print(\"Spektrum yang terlihat adalah Orange\")\n",
    "elif(Panjang_gelombang_cahaya <=750):\n",
    "    print(\"Spektrum yang terlihat adalah Red\")\n",
    "else:\n",
    "    print(\"Input kamu di luar spektrum yang diketahui\")"
   ]
  },
  {
   "cell_type": "code",
   "execution_count": 14,
   "id": "dafe0003",
   "metadata": {},
   "outputs": [
    {
     "name": "stdout",
     "output_type": "stream",
     "text": [
      "Tahun Kabisat\n"
     ]
    }
   ],
   "source": [
    "tahun = 2020\n",
    "\n",
    "if (tahun % 4) == 0:\n",
    "    if (tahun % 100) == 0:\n",
    "        if (tahun % 400) == 0:\n",
    "            print(\"Tahun Kabisat\")\n",
    "        else:\n",
    "            print(\"Bukan Tahun Kabisat\")\n",
    "    else:\n",
    "        print(\"Tahun Kabisat\") \n",
    "else:\n",
    "    print( \"Bukan Tahun Kabisat\")"
   ]
  },
  {
   "cell_type": "code",
   "execution_count": 15,
   "id": "3e66dc78",
   "metadata": {},
   "outputs": [
    {
     "name": "stdout",
     "output_type": "stream",
     "text": [
      "Bukan Tahun Kabisat\n"
     ]
    }
   ],
   "source": [
    "tahun = 2022\n",
    "\n",
    "if (tahun % 4) == 0:\n",
    "    if (tahun % 100) == 0:\n",
    "        if (tahun % 400) == 0:\n",
    "            print(\"Tahun Kabisat\")\n",
    "        else:\n",
    "            print(\"Bukan Tahun Kabisat\")\n",
    "    else:\n",
    "        print(\"Tahun Kabisat\") \n",
    "else:\n",
    "    print( \"Bukan Tahun Kabisat\")"
   ]
  },
  {
   "cell_type": "code",
   "execution_count": 16,
   "id": "b5b559a8",
   "metadata": {},
   "outputs": [
    {
     "name": "stdout",
     "output_type": "stream",
     "text": [
      "Tahun Kabisat\n"
     ]
    }
   ],
   "source": [
    "tahun = 2024\n",
    "\n",
    "if (tahun % 4) == 0:\n",
    "    if (tahun % 100) == 0:\n",
    "        if (tahun % 400) == 0:\n",
    "            print(\"Tahun Kabisat\")\n",
    "        else:\n",
    "            print(\"Bukan Tahun Kabisat\")\n",
    "    else:\n",
    "        print(\"Tahun Kabisat\") \n",
    "else:\n",
    "    print( \"Bukan Tahun Kabisat\")"
   ]
  },
  {
   "cell_type": "code",
   "execution_count": null,
   "id": "bc9c538c",
   "metadata": {},
   "outputs": [],
   "source": []
  }
 ],
 "metadata": {
  "kernelspec": {
   "display_name": "Python 3 (ipykernel)",
   "language": "python",
   "name": "python3"
  },
  "language_info": {
   "codemirror_mode": {
    "name": "ipython",
    "version": 3
   },
   "file_extension": ".py",
   "mimetype": "text/x-python",
   "name": "python",
   "nbconvert_exporter": "python",
   "pygments_lexer": "ipython3",
   "version": "3.9.12"
  }
 },
 "nbformat": 4,
 "nbformat_minor": 5
}
