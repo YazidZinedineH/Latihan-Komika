{
  "nbformat": 4,
  "nbformat_minor": 0,
  "metadata": {
    "colab": {
      "name": "Latihan komika.ipynb",
      "provenance": []
    },
    "kernelspec": {
      "name": "python3",
      "display_name": "Python 3"
    },
    "language_info": {
      "name": "python"
    }
  },
  "cells": [
    {
      "cell_type": "code",
      "source": [
        "# Buatlah Biodata Idola\n",
        "\n",
        "print(\"Biodata Idola\\n\")\n",
        "print(\"Nama: Yazid Zinedine Hdiana\")\n",
        "print(\"Hobi: Menonton film\")\n",
        "print(\"Tinggi Badan: 178 cm\")\n",
        "print(\"Berat Badan: 70 kg\")\n",
        "print(\"Jenis Kelamin: Laki-laki\")\n",
        "print(\"Suku Bangsa: Sunda\")\n",
        "print(\"No Telepon: 0812xxxx38\")"
      ],
      "metadata": {
        "colab": {
          "base_uri": "https://localhost:8080/"
        },
        "id": "kYKDUQo3VEPa",
        "outputId": "deaacbda-361c-4a90-92e2-364738a0c06f"
      },
      "execution_count": 20,
      "outputs": [
        {
          "output_type": "stream",
          "name": "stdout",
          "text": [
            "Biodata Idola\n",
            "\n",
            "Nama: Yazid Zinedine Hdiana\n",
            "Hobi: Menonton film\n",
            "Tinggi Badan: 178 cm\n",
            "Berat Badan: 70 kg\n",
            "Jenis Kelamin: Laki-laki\n",
            "Suku Bangsa: Sunda\n",
            "No Telepon: 0812xxxx38\n"
          ]
        }
      ]
    },
    {
      "cell_type": "code",
      "execution_count": 5,
      "metadata": {
        "colab": {
          "base_uri": "https://localhost:8080/"
        },
        "id": "E-LwzSXAPgaE",
        "outputId": "fd115ca9-2349-4846-ab5d-335563804a48"
      },
      "outputs": [
        {
          "output_type": "stream",
          "name": "stdout",
          "text": [
            "Biodata Idola\n",
            "\n",
            "Nama: Yazid Zinedine Hdiana\n",
            "Hobi: Menonton film\n",
            "Tinggi Badan: 178 cm\n",
            "Berat Badan: 70 kg\n",
            "Jenis Kelamin: Laki-laki\n",
            "Suku Bangsa: Sunda\n",
            "No Telepon: 0812xxxx38\n"
          ]
        }
      ],
      "source": [
        "# Buatlah Biodata Idola\n",
        "\n",
        "print(\"Biodata Idola\\n\")\n",
        "\n",
        "Nama = \"Nama: Yazid Zinedine Hdiana\"\n",
        "Hobi = \"\\nHobi: Menonton film\"\n",
        "Tinggi_Badan = \"\\nTinggi Badan: 178 cm\"\n",
        "Berat_Badan = \"\\nBerat Badan: 70 kg\"\n",
        "Jenis_Kelamin = \"\\nJenis Kelamin: Laki-laki\"\n",
        "Suku = \"\\nSuku Bangsa: Sunda\"\n",
        "Telpon = \"\\nNo Telepon: 0812xxxx38\"\n",
        "print(Nama + Hobi + Tinggi_Badan + Berat_Badan + Jenis_Kelamin + Suku + Telpon)"
      ]
    },
    {
      "cell_type": "code",
      "source": [
        "# Buat Program untuk menyapa User\n",
        "\n",
        "Nama = input(\"\\nMasukkan Nama :\")\n",
        "print(\"Halo\", Nama,\",\"\" Selamat Datang di Kelas Pemula Python\")"
      ],
      "metadata": {
        "colab": {
          "base_uri": "https://localhost:8080/"
        },
        "id": "u7KuznKeRUqU",
        "outputId": "cec0f902-8053-42f1-effb-f1c201f4e42d"
      },
      "execution_count": 11,
      "outputs": [
        {
          "output_type": "stream",
          "name": "stdout",
          "text": [
            "\n",
            "Masukkan Nama :yazid\n",
            "Halo yazid , Selamat Datang di Kelas Pemula Python\n"
          ]
        }
      ]
    },
    {
      "cell_type": "code",
      "source": [
        "# Program Untuk Menghitung Luas Ruangan\n",
        "\n",
        "# Luas Ruangan adalah Panjang x Lebar\n",
        "\n",
        "print(\"Program Untuk Menghitung Luas Ruangan\")\n",
        "panjang = float(input(\"Masukka Ukuran Panjang (dalam satuan meter):\"))\n",
        "lebar = float(input(\"Masukkan Ukuran Lebar (dalam satuan meter):\"))\n",
        "hasil = panjang * lebar\n",
        "print(\"Jadi, Ukuran Ruangan adalah :\", hasil,\"Meter\")"
      ],
      "metadata": {
        "colab": {
          "base_uri": "https://localhost:8080/"
        },
        "id": "pMEgl-SjSBhc",
        "outputId": "e9a7a2b1-8c59-4b87-9580-0392ec70052f"
      },
      "execution_count": 14,
      "outputs": [
        {
          "output_type": "stream",
          "name": "stdout",
          "text": [
            "Program Untuk Menghitung Luas Ruangan\n",
            "Masukka Ukuran Panjang (dalam satuan meter):9\n",
            "Masukkan Ukuran Lebar (dalam satuan meter):8\n",
            "Jadi, Ukuran Ruangan adalah : 72.0 Meter\n"
          ]
        }
      ]
    },
    {
      "cell_type": "code",
      "source": [
        "# Program untuk menjumlahkan bilangan bulat dari 1 sampai N\n",
        "\n",
        "# Kita tahu bahwa rumus untuk menghitung jumlah bilangan positif adalah : (n)x(n+1)/2\n",
        "\n",
        "print(\"Program Penjmumlahan Bilangan Bulat\\n\")\n",
        "n = int(input('Masukkan Bilangan Terbesar Pada Pada Deret :'))\n",
        "jumlah = int(((n) * (n + 1))/2)\n",
        "print(\"Jumlah Bilangan untuk n =\",n, \"adalah :\", jumlah)"
      ],
      "metadata": {
        "colab": {
          "base_uri": "https://localhost:8080/"
        },
        "id": "4R24EkK-Sq_U",
        "outputId": "b96e116a-7854-43ad-cabf-9630e0e0f3ff"
      },
      "execution_count": 15,
      "outputs": [
        {
          "output_type": "stream",
          "name": "stdout",
          "text": [
            "Program Penjmumlahan Bilangan Bulat\n",
            "\n",
            "Masukkan Bilangan Terbesar Pada Pada Deret :9\n",
            "Jumlah Bilangan untuk n = 9 adalah : 45\n"
          ]
        }
      ]
    },
    {
      "cell_type": "code",
      "source": [
        "# Konversi Satuan Kaki, Satuan inci terhadapa sentimeter\n",
        "\n",
        "print(\"Program Konversi Satuan Tinggi Badan\\n\")\n",
        "Centimeter = float(input(\"Masukkan Ukuran Tinggi Badan (dalam cm):\"))\n",
        "print(\"Tinggi Badan Kamu adalah :\", Centimeter, \"cm\")\n",
        "\n",
        "# Satuan Kaki (ft)\n",
        "\n",
        "feet = (0.0328084*Centimeter)\n",
        "print(\"Dalam satuan kaki tinggi badan kamu adalah:\", feet, \"ft\")\n",
        "\n",
        "# Satuan Inci (inch)\n",
        "\n",
        "inch = (0.393701*Centimeter)\n",
        "print(\"Dalam satuan inci tinggi badan kamu adalah:\", inch, \"inch\")"
      ],
      "metadata": {
        "colab": {
          "base_uri": "https://localhost:8080/"
        },
        "id": "Qp8R1WivTXm2",
        "outputId": "85f2326c-e220-42e5-c595-8d011f916f7e"
      },
      "execution_count": 17,
      "outputs": [
        {
          "output_type": "stream",
          "name": "stdout",
          "text": [
            "Program Konversi Satuan Tinggi Badan\n",
            "\n",
            "Masukkan Ukuran Tinggi Badan (dalam cm):170\n",
            "Tinggi Badan Kamu adalah : 170.0 cm\n",
            "Dalam satuan kaki tinggi badan kamu adalah: 5.577428 ft\n",
            "Dalam satuan inci tinggi badan kamu adalah: 66.92917 inch\n"
          ]
        }
      ]
    },
    {
      "cell_type": "code",
      "source": [
        "# Program Konversi Satuan Jarak\n",
        "\n",
        "print(\"Program Konversi Satuan Jarak\\n\")\n",
        "# ft --> inci, yard, mile, km\n",
        "\n",
        "feet = float(input('Masukkan Satuan Jarak (dalam ft) :'))\n",
        "print(\"Jaraknya adalah\", feet, \"ft\")\n",
        "\n",
        "inci = (12 * feet)\n",
        "yard = (0.333333 * feet)\n",
        "mile = (0.000189394 * feet)\n",
        "km = (0.0003048 * feet)\n",
        "\n",
        "print(\"Dalam Inci Satuan Jarak adalah :\", inci, \"inch\")\n",
        "print(\"Dalam Inci Satuan Jarak adalah :\", yard, \"yard\")\n",
        "print(\"Dalam Inci Satuan Jarak adalah :\", mile, \"mile\")\n",
        "print(\"Dalam Inci Satuan Jarak adalah :\", km, \"km\")"
      ],
      "metadata": {
        "colab": {
          "base_uri": "https://localhost:8080/"
        },
        "id": "2qpVn8qVUvh7",
        "outputId": "d5361303-6c62-4a42-9db1-6a9c257fd0ae"
      },
      "execution_count": 22,
      "outputs": [
        {
          "output_type": "stream",
          "name": "stdout",
          "text": [
            "Program Konversi Satuan Jarak\n",
            "\n",
            "Masukkan Satuan Jarak (dalam ft) :1\n",
            "Jaraknya adalah 1.0 ft\n",
            "Dalam Inci Satuan Jarak adalah : 12.0 inch\n",
            "Dalam Inci Satuan Jarak adalah : 0.333333 yard\n",
            "Dalam Inci Satuan Jarak adalah : 0.000189394 mile\n",
            "Dalam Inci Satuan Jarak adalah : 0.0003048 km\n"
          ]
        }
      ]
    },
    {
      "cell_type": "code",
      "source": [
        "# Program menghitung luas segitiga\n",
        "\n",
        "# Rumus luas segitiga adalah : (a x t)/2\n",
        "\n",
        "print(\"Program Untuk Menghitung Luas Segitiga\\n\")\n",
        "panjang_alas = float(input(\"Masukkan nilai alas yang akan dihitung (dalam cm) :\"))\n",
        "tinggi = float(input(\"Masukkan nilai tinggi yang akan dihitung (dalam cm)\"))\n",
        "hasil = ((panjang_alas * tinggi)/2)\n",
        "print(\"Jadi Luas Area Segitiga adalah :\",hasil, \"centimeter persegi\")"
      ],
      "metadata": {
        "colab": {
          "base_uri": "https://localhost:8080/"
        },
        "id": "osxtbs9hWLUE",
        "outputId": "de9ffd76-e658-4699-c109-3ee881052b5f"
      },
      "execution_count": 23,
      "outputs": [
        {
          "output_type": "stream",
          "name": "stdout",
          "text": [
            "Program Untuk Menghitung Luas Segitiga\n",
            "\n",
            "Masukkan nilai alas yang akan dihitung (dalam cm) :5\n",
            "Masukkan nilai tinggi yang akan dihitung (dalam cm)3\n",
            "Jadi Luas Area Segitiga adalah : 7.5 centimeter persegi\n"
          ]
        }
      ]
    },
    {
      "cell_type": "code",
      "source": [
        "# Program Untuk Menghitung Body Mass Index (BMI)\n",
        "# Rumus untuk menghitung BMI adalah : weight /(height * height)\n",
        "\n",
        "print(\"\\nProgram Untuk Menghitung BMI\")\n",
        "weight = float(input(\"Masukkan Berat Badan (dalam satuan kg) :\"))\n",
        "height = float(input(\"Masukkan Tinggi Badan (dalam satuan meter)\"))\n",
        "hasil = float((weight/(height * height)))\n",
        "print(\"Jadi nilai BMI adalah :\",hasil)"
      ],
      "metadata": {
        "colab": {
          "base_uri": "https://localhost:8080/"
        },
        "id": "Mm342vxNWqwD",
        "outputId": "1270c5f2-a4dc-41d5-c090-6568cd682b85"
      },
      "execution_count": 24,
      "outputs": [
        {
          "output_type": "stream",
          "name": "stdout",
          "text": [
            "\n",
            "Program Untuk Menghitung BMI\n",
            "Masukkan Berat Badan (dalam satuan kg) :70\n",
            "Masukkan Tinggi Badan (dalam satuan meter)176\n",
            "Jadi nilai BMI adalah : 0.0022598140495867767\n"
          ]
        }
      ]
    },
    {
      "cell_type": "code",
      "source": [
        ""
      ],
      "metadata": {
        "id": "Zg7GpXxNdfy7"
      },
      "execution_count": null,
      "outputs": []
    }
  ]
}